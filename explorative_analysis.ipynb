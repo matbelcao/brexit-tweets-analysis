{
 "cells": [
  {
   "cell_type": "code",
   "execution_count": 2,
   "metadata": {},
   "outputs": [],
   "source": [
    "import pandas as pd\n",
    "from glob import glob\n",
    "import plotly.graph_objects as go"
   ]
  },
  {
   "cell_type": "markdown",
   "metadata": {
    "scrolled": true
   },
   "source": [
    "# DATASET IMPORTATION"
   ]
  },
  {
   "cell_type": "code",
   "execution_count": 3,
   "metadata": {
    "scrolled": true
   },
   "outputs": [],
   "source": [
    "#IMPORTING THE TWEETS DATASET\n",
    "\n",
    "data1 = pd.read_csv('./db/tweets_stance_sentiment_1outof4.csv',sep='~')\n",
    "data2 = pd.read_csv('./db/tweets_stance_sentiment_2outof4.csv',sep='~',names=list(data1.columns.values),header=None)\n",
    "data3 = pd.read_csv('./db/tweets_stance_sentiment_3outof4.csv',sep='~',names=list(data1.columns.values),header=None)\n",
    "data4 = pd.read_csv('./db/tweets_stance_sentiment_4outof4.csv',sep='~',names=list(data1.columns.values),header=None)"
   ]
  },
  {
   "cell_type": "code",
   "execution_count": 4,
   "metadata": {},
   "outputs": [
    {
     "name": "stdout",
     "output_type": "stream",
     "text": [
      "['ID', 'user_id', 't_sentiment', 't_stance']\n"
     ]
    }
   ],
   "source": [
    "print(list(data1.columns.values))"
   ]
  },
  {
   "cell_type": "code",
   "execution_count": 5,
   "metadata": {},
   "outputs": [
    {
     "name": "stdout",
     "output_type": "stream",
     "text": [
      "                   ID    user_id t_sentiment t_stance\n",
      "0  682715594110689280  259896187    positive   remain\n",
      "1  682715872205651968    6312362     neutral    other\n",
      "2  682716086681382912  259896187    negative   remain\n",
      "3  682716257402109952    6312362    positive    other\n",
      "4  682716531470544896  259896187     neutral    other\n",
      "                   ID             user_id t_sentiment t_stance\n",
      "0  817805295107850240           193680125    positive    other\n",
      "1  817790211581165440  744802422313230208    positive    leave\n",
      "2  817805320227590144          1183571862    positive    other\n",
      "3  817805329094311808            76005948    negative    other\n",
      "4  817805334135902208           297443753    negative   remain\n",
      "                   ID             user_id t_sentiment t_stance\n",
      "0  991051346517348480          1517644448     neutral    other\n",
      "1  991051347935006720            51854911    positive   remain\n",
      "2  991051348799041536  712654044762935296     neutral    other\n",
      "3  991051375969751040           141383006    negative    other\n",
      "4  991051378008186880  872868713816567808    negative    other\n",
      "                    ID              user_id t_sentiment t_stance\n",
      "0  1106286989320617984           2870546121    negative    leave\n",
      "1  1106286988402085888            495676860     neutral    other\n",
      "2  1106286988221648896             15627848    positive    other\n",
      "3  1106286987600973824  1070942350820761600     neutral    other\n",
      "4  1106286991895916544             47193288    positive    other\n"
     ]
    }
   ],
   "source": [
    "#Check that all the dataset files have the same stucture\n",
    "\n",
    "print(data1.head())\n",
    "print(data2.head())\n",
    "print(data3.head())\n",
    "print(data4.head())\n",
    "\n",
    "#DATA1: 682715594110689280~259896187~positive~remain      OK\n",
    "#DATA2: 817805295107850240~193680125~positive~other       OK\n",
    "#DATA3: 991051346517348480~1517644448~neutral~other       OK\n",
    "#DATA4: 1106286989320617984~2870546121~negative~leave     OK"
   ]
  },
  {
   "cell_type": "code",
   "execution_count": null,
   "metadata": {},
   "outputs": [],
   "source": [
    "# Concatenation in a songle dataframe\n",
    "\n",
    "frames=[data1,data2,data3,data4]\n",
    "dfTweets= pd.concat(frames)"
   ]
  },
  {
   "cell_type": "code",
   "execution_count": null,
   "metadata": {},
   "outputs": [],
   "source": [
    "#IMPORTING THE STATISTICAL DATASET\n",
    "\n",
    "headers=['user_id','stance','sentiment','bot_score','bot_score_time','num_tweets']\n",
    "dfStatistics = pd.read_csv('./db/users_stance_sentiment_botscore_tweetcounts.csv',sep='~',names=headers,header=None)\n",
    "\n",
    "dfStatistics.head()"
   ]
  },
  {
   "cell_type": "code",
   "execution_count": null,
   "metadata": {},
   "outputs": [],
   "source": [
    "# Check that the number of users coincides with the documention file\n",
    "\n",
    "# number of users: 3979965 OK\n",
    "\n",
    "# bot_score has some missing values\n",
    "\n",
    "print(dfStatistics.count(),'\\n\\n',dfStatistics.dtypes)"
   ]
  },
  {
   "cell_type": "markdown",
   "metadata": {},
   "source": [
    "# EXPLORATIVE ANALYSIS and DATASET REDUCTION"
   ]
  },
  {
   "cell_type": "code",
   "execution_count": null,
   "metadata": {
    "scrolled": false
   },
   "outputs": [],
   "source": [
    "# Let's analyze the stance distibution among the users\n",
    "\n",
    "labels = dfStatistics.stance.value_counts().index\n",
    "values = dfStatistics.stance.value_counts().values\n",
    "\n",
    "fig = go.Figure(data=[go.Pie(labels=labels, values=values)])\n",
    "fig.update_layout(title_text=\"Stance of the users\")\n",
    "fig.show()\n",
    "\n",
    "print(dfStatistics.stance.value_counts())"
   ]
  },
  {
   "cell_type": "code",
   "execution_count": null,
   "metadata": {},
   "outputs": [],
   "source": [
    "# REDUCTION1 : Drop all the rows that doesn't have bot score (missing value)\n",
    "\n",
    "dfStatistics=dfStatistics.dropna()\n",
    "print(dfStatistics.count())\n",
    "print(dfStatistics.stance.value_counts())"
   ]
  },
  {
   "cell_type": "code",
   "execution_count": null,
   "metadata": {},
   "outputs": [],
   "source": [
    "# REDUCTION 2 : Drop all the users that have stance='others'\n",
    "\n",
    "indexes = dfStatistics[ dfStatistics['stance'] == 'others' ].index\n",
    "dfStatistics.drop(indexes, inplace=True)\n",
    "\n",
    "# Check that are only remaining users with \"leave\" or \"remain\" stance\n",
    "print(dfStatistics.stance.value_counts())"
   ]
  },
  {
   "cell_type": "code",
   "execution_count": null,
   "metadata": {},
   "outputs": [],
   "source": [
    "# REDUCTION 2 : remove the users that have written more tweets than a normal users --> 0.90 quantile truncation\n",
    "\n",
    "leaveTweetsPerUser=dfStatistics.loc[dfStatistics['stance']=='leave'].num_tweets\n",
    "remainTweetsPerUser=dfStatistics.loc[dfStatistics['stance']=='remain'].num_tweets\n",
    "\n",
    "# mostly of the users in the DB have written only 1,2 or 3 tweets...\n",
    "print(leaveTweetsPerUser.describe(),\"\\n\")\n",
    "print(remainTweetsPerUser.describe())\n",
    "\n",
    "# Compute the 0.90 quantile\n",
    "q = dfStatistics['num_tweets'].quantile(0.90)\n",
    "print(\"\\n\\n\\n\",\"90% quantile = \",q,\"\\n\\n\")\n",
    "\n",
    "# Dataset truncation\n",
    "dfStatisticsFiltered=dfStatistics[dfStatistics[\"num_tweets\"] < q]\n",
    "\n",
    "print(dfStatisticsFiltered.describe())"
   ]
  },
  {
   "cell_type": "code",
   "execution_count": null,
   "metadata": {},
   "outputs": [],
   "source": [
    "# Let's analyze the stance distibution among the remaining users\n",
    "\n",
    "labels = dfStatisticsFiltered.stance.value_counts().index\n",
    "values = dfStatisticsFiltered.stance.value_counts().values\n",
    "\n",
    "fig = go.Figure(data=[go.Pie(labels=labels, values=values)])\n",
    "fig.update_layout(title_text=\"Stance of the users that are not massive brexit-twitters ( count(tweets) < 6 )\")\n",
    "fig.show()\n",
    "\n",
    "print(dfStatisticsFiltered.stance.value_counts())"
   ]
  },
  {
   "cell_type": "code",
   "execution_count": null,
   "metadata": {},
   "outputs": [],
   "source": [
    "# The distribution of bot score between leavers and remainer is very similar...\n",
    "\n",
    "leaveTweetsBotScore=dfStatisticsFiltered.loc[dfStatisticsFiltered['stance']=='leave'].bot_score\n",
    "remainTweetsBotScore=dfStatisticsFiltered.loc[dfStatisticsFiltered['stance']=='remain'].bot_score\n",
    "\n",
    "print(remainTweetsBotScore.describe(),\"\\n\")\n",
    "print(leaveTweetsBotScore.describe())\n",
    "\n",
    "\n",
    "# Acccording to the fact that the 0.9 bot_score is slightly above 50%, we know that mostly of the users are not bots\n",
    "\n",
    "q = dfStatisticsFiltered['bot_score'].quantile(0.90)\n",
    "print(\"\\n\\n\\n\",\"90% quantile = \",q,\"\\n\\n\")\n",
    "\n",
    "\n",
    "# REDUCTION 3: remove the users hat have the botscore above 50% --> more or less a 0.90 quantile truncation\n",
    "\n",
    "dfStatisticsFiltered2=dfStatisticsFiltered[dfStatisticsFiltered['bot_score'] < 0.5]\n",
    "\n",
    "print(dfStatisticsFiltered2.describe())\n"
   ]
  },
  {
   "cell_type": "code",
   "execution_count": null,
   "metadata": {},
   "outputs": [],
   "source": [
    "# Let's analyze the stance distibution among the remaining users\n",
    "\n",
    "labels = dfStatisticsFiltered2.stance.value_counts().index\n",
    "values = dfStatisticsFiltered2.stance.value_counts().values\n",
    "\n",
    "fig = go.Figure(data=[go.Pie(labels=labels, values=values)])\n",
    "fig.update_layout(title_text=\"Stance of the non-robot users ( botscore < 50% )\")\n",
    "fig.show()\n",
    "\n",
    "print(dfStatisticsFiltered2.stance.value_counts())"
   ]
  },
  {
   "cell_type": "code",
   "execution_count": null,
   "metadata": {},
   "outputs": [],
   "source": [
    "# Distribution of tweets per user (bounds [1,5])\n",
    "\n",
    "import plotly.express as px\n",
    "\n",
    "fig = px.histogram(dfStatisticsFiltered2, x=\"num_tweets\", color=\"stance\")\n",
    "fig.update_layout(title_text=\"Distribution of tweets for non-robots users ( bounds [1,5] )\")\n",
    "fig.show()\n",
    "\n"
   ]
  },
  {
   "cell_type": "code",
   "execution_count": null,
   "metadata": {},
   "outputs": [],
   "source": [
    "# Now I have to filter the tweets dataset, and in particula I will only keep the tweets of the remaining users\n",
    "\n",
    "dfTweetsFiltered=dfTweets.loc[dfTweets['user_id'].isin(dfStatisticsFiltered2['user_id'])]"
   ]
  },
  {
   "cell_type": "code",
   "execution_count": null,
   "metadata": {},
   "outputs": [],
   "source": [
    "# Let's how many are the remaing tweets after the filtering operation\n",
    "\n",
    "print(dfTweetsFiltered.count(),\"\\n\\n\")\n",
    "\n",
    "print(dfTweetsFiltered.t_stance.value_counts(),\"\\n\\n\")\n",
    "\n",
    "print(dfTweetsFiltered.t_sentiment.value_counts())\n",
    "\n",
    "# FINAL CHECK: 817603 exacly the tweets counting in the other dataset containing the users staces --> All OK ! "
   ]
  },
  {
   "cell_type": "markdown",
   "metadata": {},
   "source": [
    "# FILTERED CSV EXPORTATIONS"
   ]
  },
  {
   "cell_type": "code",
   "execution_count": null,
   "metadata": {},
   "outputs": [],
   "source": [
    "# Record shuffling\n",
    "\n",
    "dfStatisticsFiltered2.sample(frac=1)\n",
    "\n",
    "print(dfStatisticsFiltered2.stance.value_counts())"
   ]
  },
  {
   "cell_type": "code",
   "execution_count": null,
   "metadata": {},
   "outputs": [],
   "source": [
    "# CSV exportations\n",
    "\n",
    "dfTweetsFiltered.to_csv('./db/tweets_filtered.csv',index=False)\n",
    "\n",
    "dfStatisticsFiltered2.to_csv('./db/users_filtered.csv',index=False)"
   ]
  }
 ],
 "metadata": {
  "kernelspec": {
   "display_name": "Python 3",
   "language": "python",
   "name": "python3"
  },
  "language_info": {
   "codemirror_mode": {
    "name": "ipython",
    "version": 3
   },
   "file_extension": ".py",
   "mimetype": "text/x-python",
   "name": "python",
   "nbconvert_exporter": "python",
   "pygments_lexer": "ipython3",
   "version": "3.7.4"
  }
 },
 "nbformat": 4,
 "nbformat_minor": 4
}
